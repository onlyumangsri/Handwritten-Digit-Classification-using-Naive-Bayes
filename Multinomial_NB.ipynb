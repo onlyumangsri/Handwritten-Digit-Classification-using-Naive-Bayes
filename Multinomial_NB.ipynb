{
  "cells": [
    {
      "cell_type": "code",
      "execution_count": null,
      "metadata": {
        "id": "un_vCxxLkZAK",
        "outputId": "2fad797e-daea-42b3-e8eb-81ba20a4e0e4"
      },
      "outputs": [
        {
          "name": "stdout",
          "output_type": "stream",
          "text": [
            "Accuracy: 3.7347294938917974\n"
          ]
        }
      ],
      "source": [
        "import pandas as pd\n",
        "import numpy as np\n",
        "from sklearn.model_selection import train_test_split\n",
        "\n",
        "data = pd.read_csv('A_Z Handwritten Data.csv')\n",
        "csv_dataset = np.array(data)\n",
        "X, y = csv_dataset[:, 1:], csv_dataset[:, 0]\n",
        "X_train, X_test, y_train, y_test = train_test_split(X, y, test_size=0.1)\n",
        "X_train = np.array(X_train)\n",
        "X_test = np.array(X_test)\n",
        "\n",
        "\n",
        "class_probs = dict()\n",
        "feature_freqs = dict()\n",
        "for c in np.unique(y_train):\n",
        "    class_probs[c] = (y_train == c).sum() / len(y_train)\n",
        "    feature_freqs[c] = (X_train[y_train == c] > 0).sum(axis=0)\n",
        "\n",
        "\n",
        "def predict(X):\n",
        "    N, K = X.shape[0], len(class_probs)\n",
        "    probs = np.zeros((N, K))\n",
        "\n",
        "    for i, (x, class_prob) in enumerate(zip(X, class_probs.values())):\n",
        "        prob = class_prob\n",
        "        if np.any(x):\n",
        "            prob *= np.prod(feature_freqs[c][x > 0] / (y_train == c).sum())\n",
        "        else:\n",
        "            prob *= np.prod(1 - feature_freqs[c] / (y_train == c).sum())\n",
        "        probs[i, c] = prob\n",
        "    return np.argmax(probs, axis=1)\n",
        "\n",
        "predictions = predict(X_test)\n",
        "accuracy = (predictions == y_test).mean()\n",
        "print(\"Accuracy:\", accuracy*100)\n"
      ]
    },
    {
      "cell_type": "code",
      "execution_count": null,
      "metadata": {
        "id": "2dFkDpYEkZAM",
        "outputId": "ae243f21-5896-4296-b5b7-470a1a121b1b"
      },
      "outputs": [
        {
          "name": "stdout",
          "output_type": "stream",
          "text": [
            "0.698697811786817\n"
          ]
        }
      ],
      "source": [
        "\n",
        "class MultinomialNB:\n",
        "\n",
        "    def __init__(self, alpha=0.01):\n",
        "        self.alpha = alpha\n",
        "\n",
        "    def fit(self, X_train, y_train):\n",
        "        m, n = X_train.shape\n",
        "        self._classes = np.unique(y_train)\n",
        "        n_classes = len(self._classes)\n",
        "\n",
        "        self._priors = np.zeros(n_classes)\n",
        "        self._likelihoods = np.zeros((n_classes, n))\n",
        "\n",
        "        for idx, c in enumerate(self._classes):\n",
        "            X_train_c = X_train[c == y_train]\n",
        "            self._priors[idx] = X_train_c.shape[0] / m\n",
        "            self._likelihoods[idx, :] = ((X_train_c.sum(axis=0)) + self.alpha) / (np.sum(X_train_c.sum(axis=0) + self.alpha))\n",
        "\n",
        "\n",
        "    def predict(self, X_test):\n",
        "        return [self._predict(x_test) for x_test in X_test]\n",
        "\n",
        "    def _predict(self, x_test):\n",
        "        posteriors = []\n",
        "        for idx, c in enumerate(self._classes):\n",
        "            prior_c = np.log(self._priors[idx])\n",
        "            likelihoods_c = self.calc_likelihood(self._likelihoods[idx,:], x_test)\n",
        "            posteriors_c = np.sum(likelihoods_c) + prior_c\n",
        "            posteriors.append(posteriors_c)\n",
        "\n",
        "        return self._classes[np.argmax(posteriors)]\n",
        "\n",
        "    def calc_likelihood(self, cls_likeli, x_test):\n",
        "        return np.log(cls_likeli) * x_test\n",
        "\n",
        "    def score(self, X_test, y_test):\n",
        "        y_pred = self.predict(X_test)\n",
        "        return np.sum(y_pred == y_test)/len(y_test)\n",
        "\n",
        "\n",
        "\n",
        "obj =MultinomialNB()\n",
        "obj.fit(X_train, y_train)\n",
        "\n",
        "print(obj.score(X_test, y_test))\n",
        "\n",
        "\n"
      ]
    },
    {
      "cell_type": "code",
      "execution_count": null,
      "metadata": {
        "id": "Mucaa7ppkZAN",
        "outputId": "6506e0fe-e296-4310-cc07-d29c2b34c2eb"
      },
      "outputs": [
        {
          "name": "stdout",
          "output_type": "stream",
          "text": [
            "0.543804537521815\n"
          ]
        }
      ],
      "source": [
        "def bin_feature(feature, n_bins):\n",
        "    \"\"\"Bins a continuous numerical feature into n_bins evenly spaced bins.\"\"\"\n",
        "    bin_edges = np.linspace(feature.min(), feature.max(), n_bins + 1)\n",
        "    return np.digitize(feature, bin_edges)\n",
        "\n",
        "\n",
        "from numpy import apply_along_axis\n",
        "\n",
        "X_train_binned = apply_along_axis(lambda x: bin_feature(x, 10), 0, X_train)\n",
        "X_test_binned = apply_along_axis(lambda x: bin_feature(x, 10), 0, X_test)\n",
        "\n",
        "obj = MultinomialNB()\n",
        "obj.fit(X_train_binned, y_train)\n",
        "y_pred = obj.score(X_test_binned, y_test)\n",
        "print(y_pred)\n"
      ]
    },
    {
      "cell_type": "code",
      "execution_count": null,
      "metadata": {
        "id": "Dcd05UGKkZAN",
        "outputId": "d253b4d1-3e87-4793-9537-9013163a4516"
      },
      "outputs": [
        {
          "name": "stdout",
          "output_type": "stream",
          "text": [
            "0.569660357094912\n"
          ]
        }
      ],
      "source": [
        "X_train_binned = apply_along_axis(lambda x: bin_feature(x, 1000), 0, X_train)\n",
        "X_test_binned = apply_along_axis(lambda x: bin_feature(x, 1000), 0, X_test)\n",
        "\n",
        "obj = MultinomialNB()\n",
        "obj.fit(X_train_binned, y_train)\n",
        "y_pred = obj.score(X_test_binned, y_test)\n",
        "print(y_pred)"
      ]
    }
  ],
  "metadata": {
    "kernelspec": {
      "display_name": "Python 3",
      "language": "python",
      "name": "python3"
    },
    "language_info": {
      "codemirror_mode": {
        "name": "ipython",
        "version": 3
      },
      "file_extension": ".py",
      "mimetype": "text/x-python",
      "name": "python",
      "nbconvert_exporter": "python",
      "pygments_lexer": "ipython3",
      "version": "3.10.9"
    },
    "orig_nbformat": 4,
    "vscode": {
      "interpreter": {
        "hash": "59ddfe56edc95f73912f77c58ed75f9b5f3722acd7cbc9160fd4007e7af55801"
      }
    },
    "colab": {
      "provenance": []
    }
  },
  "nbformat": 4,
  "nbformat_minor": 0
}